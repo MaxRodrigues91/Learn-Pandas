{
 "cells": [
  {
   "cell_type": "code",
   "execution_count": 1,
   "id": "representative-proposal",
   "metadata": {},
   "outputs": [],
   "source": [
    "import pandas as pd\n",
    "import numpy as np"
   ]
  },
  {
   "cell_type": "code",
   "execution_count": 2,
   "id": "turned-advertising",
   "metadata": {},
   "outputs": [
    {
     "data": {
      "text/html": [
       "<div>\n",
       "<style scoped>\n",
       "    .dataframe tbody tr th:only-of-type {\n",
       "        vertical-align: middle;\n",
       "    }\n",
       "\n",
       "    .dataframe tbody tr th {\n",
       "        vertical-align: top;\n",
       "    }\n",
       "\n",
       "    .dataframe thead th {\n",
       "        text-align: right;\n",
       "    }\n",
       "</style>\n",
       "<table border=\"1\" class=\"dataframe\">\n",
       "  <thead>\n",
       "    <tr style=\"text-align: right;\">\n",
       "      <th></th>\n",
       "      <th>Formatted Date</th>\n",
       "      <th>Summary</th>\n",
       "      <th>Precip Type</th>\n",
       "      <th>Temperature (C)</th>\n",
       "      <th>Apparent Temperature (C)</th>\n",
       "      <th>Humidity</th>\n",
       "      <th>Wind Speed (km/h)</th>\n",
       "      <th>Wind Bearing (degrees)</th>\n",
       "      <th>Visibility (km)</th>\n",
       "      <th>Pressure (millibars)</th>\n",
       "      <th>Daily Summary</th>\n",
       "      <th>precip-type-rain</th>\n",
       "      <th>precipt-type-snow</th>\n",
       "      <th>unknow</th>\n",
       "    </tr>\n",
       "  </thead>\n",
       "  <tbody>\n",
       "    <tr>\n",
       "      <th>0</th>\n",
       "      <td>2006-04-01 00:00:00.000 +0200</td>\n",
       "      <td>Partly Cloudy</td>\n",
       "      <td>rain</td>\n",
       "      <td>9.472222</td>\n",
       "      <td>7.388889</td>\n",
       "      <td>0.89</td>\n",
       "      <td>0.221130</td>\n",
       "      <td>0.699164</td>\n",
       "      <td>0.983</td>\n",
       "      <td>0.970135</td>\n",
       "      <td>Partly cloudy throughout the day.</td>\n",
       "      <td>1</td>\n",
       "      <td>0</td>\n",
       "      <td>0</td>\n",
       "    </tr>\n",
       "    <tr>\n",
       "      <th>1</th>\n",
       "      <td>2006-04-01 01:00:00.000 +0200</td>\n",
       "      <td>Partly Cloudy</td>\n",
       "      <td>rain</td>\n",
       "      <td>9.355556</td>\n",
       "      <td>7.227778</td>\n",
       "      <td>0.86</td>\n",
       "      <td>0.223399</td>\n",
       "      <td>0.721448</td>\n",
       "      <td>0.983</td>\n",
       "      <td>0.970613</td>\n",
       "      <td>Partly cloudy throughout the day.</td>\n",
       "      <td>1</td>\n",
       "      <td>0</td>\n",
       "      <td>0</td>\n",
       "    </tr>\n",
       "  </tbody>\n",
       "</table>\n",
       "</div>"
      ],
      "text/plain": [
       "                  Formatted Date        Summary Precip Type  Temperature (C)  \\\n",
       "0  2006-04-01 00:00:00.000 +0200  Partly Cloudy        rain         9.472222   \n",
       "1  2006-04-01 01:00:00.000 +0200  Partly Cloudy        rain         9.355556   \n",
       "\n",
       "   Apparent Temperature (C)  Humidity  Wind Speed (km/h)  \\\n",
       "0                  7.388889      0.89           0.221130   \n",
       "1                  7.227778      0.86           0.223399   \n",
       "\n",
       "   Wind Bearing (degrees)  Visibility (km)  Pressure (millibars)  \\\n",
       "0                0.699164            0.983              0.970135   \n",
       "1                0.721448            0.983              0.970613   \n",
       "\n",
       "                       Daily Summary  precip-type-rain  precipt-type-snow  \\\n",
       "0  Partly cloudy throughout the day.                 1                  0   \n",
       "1  Partly cloudy throughout the day.                 1                  0   \n",
       "\n",
       "   unknow  \n",
       "0       0  \n",
       "1       0  "
      ]
     },
     "execution_count": 2,
     "metadata": {},
     "output_type": "execute_result"
    }
   ],
   "source": [
    "df = pd.read_csv('weatherHistory_norm.csv')\n",
    "df.head(2)"
   ]
  },
  {
   "cell_type": "code",
   "execution_count": 6,
   "id": "vocal-manchester",
   "metadata": {},
   "outputs": [
    {
     "data": {
      "text/plain": [
       "-21.822222222222226"
      ]
     },
     "execution_count": 6,
     "metadata": {},
     "output_type": "execute_result"
    }
   ],
   "source": [
    "df['Temperature (C)'].min()"
   ]
  },
  {
   "cell_type": "code",
   "execution_count": 7,
   "id": "incoming-puzzle",
   "metadata": {},
   "outputs": [
    {
     "data": {
      "text/plain": [
       "39.90555555555555"
      ]
     },
     "execution_count": 7,
     "metadata": {},
     "output_type": "execute_result"
    }
   ],
   "source": [
    "df['Temperature (C)'].max()"
   ]
  },
  {
   "cell_type": "code",
   "execution_count": 9,
   "id": "indian-train",
   "metadata": {},
   "outputs": [
    {
     "data": {
      "text/plain": [
       "61.727777777777774"
      ]
     },
     "execution_count": 9,
     "metadata": {},
     "output_type": "execute_result"
    }
   ],
   "source": [
    "amp = df['Temperature (C)'].max() - df['Temperature (C)'].min()\n",
    "amp"
   ]
  },
  {
   "cell_type": "code",
   "execution_count": 11,
   "id": "cardiac-swiss",
   "metadata": {},
   "outputs": [
    {
     "data": {
      "text/plain": [
       "<AxesSubplot:>"
      ]
     },
     "execution_count": 11,
     "metadata": {},
     "output_type": "execute_result"
    },
    {
     "data": {
      "image/png": "[encoded data removed]",
      "text/plain": [
       "<Figure size 432x288 with 1 Axes>"
      ]
     },
     "metadata": {
      "needs_background": "light"
     },
     "output_type": "display_data"
    }
   ],
   "source": [
    " df['Temperature (C)'].hist()"
   ]
  },
  {
   "cell_type": "code",
   "execution_count": 12,
   "id": "uniform-consumption",
   "metadata": {},
   "outputs": [
    {
     "data": {
      "text/plain": [
       "0    7.222222\n",
       "dtype: float64"
      ]
     },
     "execution_count": 12,
     "metadata": {},
     "output_type": "execute_result"
    }
   ],
   "source": [
    " df['Temperature (C)'].mode()"
   ]
  },
  {
   "cell_type": "code",
   "execution_count": 13,
   "id": "alike-slope",
   "metadata": {},
   "outputs": [
    {
     "data": {
      "text/plain": [
       "11.932678437511882"
      ]
     },
     "execution_count": 13,
     "metadata": {},
     "output_type": "execute_result"
    }
   ],
   "source": [
    " df['Temperature (C)'].mean()"
   ]
  },
  {
   "cell_type": "code",
   "execution_count": 14,
   "id": "sensitive-soundtrack",
   "metadata": {},
   "outputs": [
    {
     "data": {
      "text/plain": [
       "12.0"
      ]
     },
     "execution_count": 14,
     "metadata": {},
     "output_type": "execute_result"
    }
   ],
   "source": [
    " df['Temperature (C)'].median()"
   ]
  },
  {
   "cell_type": "code",
   "execution_count": 15,
   "id": "ancient-junction",
   "metadata": {},
   "outputs": [
    {
     "data": {
      "text/plain": [
       "<AxesSubplot:>"
      ]
     },
     "execution_count": 15,
     "metadata": {},
     "output_type": "execute_result"
    },
    {
     "data": {
      "image/png": "[encoded data removed]",
      "text/plain": [
       "<Figure size 432x288 with 1 Axes>"
      ]
     },
     "metadata": {
      "needs_background": "light"
     },
     "output_type": "display_data"
    }
   ],
   "source": [
    " df[['Temperature (C)']].boxplot()"
   ]
  },
  {
   "cell_type": "code",
   "execution_count": 16,
   "id": "biological-garbage",
   "metadata": {},
   "outputs": [],
   "source": [
    "## Erros"
   ]
  },
  {
   "cell_type": "code",
   "execution_count": 20,
   "id": "lesser-indianapolis",
   "metadata": {},
   "outputs": [],
   "source": [
    "df_sample = df[:10]\n",
    "x = df_sample['Temperature (C)']"
   ]
  },
  {
   "cell_type": "code",
   "execution_count": 21,
   "id": "joint-mechanism",
   "metadata": {},
   "outputs": [
    {
     "data": {
      "text/plain": [
       "0     9.472222\n",
       "1     9.355556\n",
       "2     9.377778\n",
       "3     8.288889\n",
       "4     8.755556\n",
       "5     9.222222\n",
       "6     7.733333\n",
       "7     8.772222\n",
       "8    10.822222\n",
       "9    13.772222\n",
       "Name: Temperature (C), dtype: float64"
      ]
     },
     "execution_count": 21,
     "metadata": {},
     "output_type": "execute_result"
    }
   ],
   "source": [
    "x"
   ]
  },
  {
   "cell_type": "code",
   "execution_count": 19,
   "id": "german-punch",
   "metadata": {},
   "outputs": [
    {
     "data": {
      "text/plain": [
       "9.557222222222222"
      ]
     },
     "execution_count": 19,
     "metadata": {},
     "output_type": "execute_result"
    }
   ],
   "source": [
    "df_sample['Temperature (C)'].mean()"
   ]
  },
  {
   "cell_type": "code",
   "execution_count": 24,
   "id": "moving-vanilla",
   "metadata": {},
   "outputs": [],
   "source": [
    "y = np.full(len(x), df_sample['Temperature (C)'].mean())"
   ]
  },
  {
   "cell_type": "code",
   "execution_count": 25,
   "id": "forty-roommate",
   "metadata": {},
   "outputs": [
    {
     "data": {
      "text/plain": [
       "array([9.55722222, 9.55722222, 9.55722222, 9.55722222, 9.55722222,\n",
       "       9.55722222, 9.55722222, 9.55722222, 9.55722222, 9.55722222])"
      ]
     },
     "execution_count": 25,
     "metadata": {},
     "output_type": "execute_result"
    }
   ],
   "source": [
    "y"
   ]
  },
  {
   "cell_type": "code",
   "execution_count": 26,
   "id": "spatial-adjustment",
   "metadata": {},
   "outputs": [
    {
     "data": {
      "text/plain": [
       "0    0.085000\n",
       "1    0.201667\n",
       "2    0.179444\n",
       "3    1.268333\n",
       "4    0.801667\n",
       "5    0.335000\n",
       "6    1.823889\n",
       "7    0.785000\n",
       "8   -1.265000\n",
       "9   -4.215000\n",
       "Name: Temperature (C), dtype: float64"
      ]
     },
     "execution_count": 26,
     "metadata": {},
     "output_type": "execute_result"
    }
   ],
   "source": [
    "e = y - x\n",
    "e"
   ]
  },
  {
   "cell_type": "code",
   "execution_count": 28,
   "id": "shaped-consciousness",
   "metadata": {},
   "outputs": [],
   "source": [
    "from matplotlib import pyplot as plt"
   ]
  },
  {
   "cell_type": "code",
   "execution_count": 31,
   "id": "handled-amplifier",
   "metadata": {},
   "outputs": [
    {
     "data": {
      "image/png": "[encoded data removed]",
      "text/plain": [
       "<Figure size 432x288 with 1 Axes>"
      ]
     },
     "metadata": {
      "needs_background": "light"
     },
     "output_type": "display_data"
    }
   ],
   "source": [
    "plt.errorbar(x, y, e, linestyle=\"None\", marker=\"x\")\n",
    "plt.show()"
   ]
  },
  {
   "cell_type": "code",
   "execution_count": 35,
   "id": "honest-sentence",
   "metadata": {},
   "outputs": [
    {
     "data": {
      "text/plain": [
       "0.0"
      ]
     },
     "execution_count": 35,
     "metadata": {},
     "output_type": "execute_result"
    }
   ],
   "source": [
    "round(sum(e), 4)"
   ]
  },
  {
   "cell_type": "code",
   "execution_count": 36,
   "id": "tutorial-fraud",
   "metadata": {},
   "outputs": [
    {
     "data": {
      "text/plain": [
       "0     0.007225\n",
       "1     0.040669\n",
       "2     0.032200\n",
       "3     1.608669\n",
       "4     0.642669\n",
       "5     0.112225\n",
       "6     3.326571\n",
       "7     0.616225\n",
       "8     1.600225\n",
       "9    17.766225\n",
       "Name: Temperature (C), dtype: float64"
      ]
     },
     "execution_count": 36,
     "metadata": {},
     "output_type": "execute_result"
    }
   ],
   "source": [
    "e2 = np.square(e)\n",
    "e2"
   ]
  },
  {
   "cell_type": "code",
   "execution_count": 38,
   "id": "enabling-ranch",
   "metadata": {},
   "outputs": [],
   "source": [
    "MSE = sum(e2)"
   ]
  },
  {
   "cell_type": "code",
   "execution_count": 41,
   "id": "seventh-station",
   "metadata": {},
   "outputs": [
    {
     "data": {
      "text/plain": [
       "25.752904320987646"
      ]
     },
     "execution_count": 41,
     "metadata": {},
     "output_type": "execute_result"
    }
   ],
   "source": [
    "MSE"
   ]
  },
  {
   "cell_type": "code",
   "execution_count": 39,
   "id": "atmospheric-colors",
   "metadata": {},
   "outputs": [],
   "source": [
    "RMSE = np.sqrt(MSE)"
   ]
  },
  {
   "cell_type": "code",
   "execution_count": 40,
   "id": "complicated-springfield",
   "metadata": {},
   "outputs": [
    {
     "data": {
      "text/plain": [
       "5.074731945727542"
      ]
     },
     "execution_count": 40,
     "metadata": {},
     "output_type": "execute_result"
    }
   ],
   "source": [
    "RMSE"
   ]
  },
  {
   "cell_type": "markdown",
   "id": "worth-entrepreneur",
   "metadata": {},
   "source": [
    "### Regressão Linear"
   ]
  },
  {
   "cell_type": "code",
   "execution_count": 42,
   "id": "massive-allah",
   "metadata": {},
   "outputs": [],
   "source": [
    "from sklearn.linear_model import LinearRegression"
   ]
  },
  {
   "cell_type": "code",
   "execution_count": 43,
   "id": "identified-camel",
   "metadata": {},
   "outputs": [
    {
     "data": {
      "text/plain": [
       "LinearRegression(copy_X=True, fit_intercept=True, n_jobs=None,\n",
       "         normalize=False)"
      ]
     },
     "execution_count": 43,
     "metadata": {},
     "output_type": "execute_result"
    }
   ],
   "source": [
    "lm = LinearRegression()\n",
    "lm"
   ]
  },
  {
   "cell_type": "code",
   "execution_count": 44,
   "id": "enabling-burke",
   "metadata": {},
   "outputs": [],
   "source": [
    "X = df[['Humidity']]\n",
    "Y = df['Temperature (C)']"
   ]
  },
  {
   "cell_type": "code",
   "execution_count": 45,
   "id": "matched-reason",
   "metadata": {},
   "outputs": [],
   "source": [
    "from sklearn.model_selection import train_test_split"
   ]
  },
  {
   "cell_type": "code",
   "execution_count": 47,
   "id": "grand-degree",
   "metadata": {},
   "outputs": [],
   "source": [
    "X_train, X_test, Y_train, Y_test = train_test_split(X, Y, test_size=0.3)"
   ]
  },
  {
   "cell_type": "code",
   "execution_count": 48,
   "id": "convenient-reduction",
   "metadata": {},
   "outputs": [
    {
     "data": {
      "text/plain": [
       "LinearRegression(copy_X=True, fit_intercept=True, n_jobs=None,\n",
       "         normalize=False)"
      ]
     },
     "execution_count": 48,
     "metadata": {},
     "output_type": "execute_result"
    }
   ],
   "source": [
    "lm.fit(X_train, Y_train)"
   ]
  },
  {
   "cell_type": "code",
   "execution_count": 49,
   "id": "caroline-filename",
   "metadata": {},
   "outputs": [
    {
     "data": {
      "text/plain": [
       "array([-30.94895137])"
      ]
     },
     "execution_count": 49,
     "metadata": {},
     "output_type": "execute_result"
    }
   ],
   "source": [
    "lm.coef_"
   ]
  },
  {
   "cell_type": "code",
   "execution_count": 50,
   "id": "exposed-improvement",
   "metadata": {},
   "outputs": [
    {
     "data": {
      "text/plain": [
       "34.695089905271566"
      ]
     },
     "execution_count": 50,
     "metadata": {},
     "output_type": "execute_result"
    }
   ],
   "source": [
    "lm.intercept_"
   ]
  },
  {
   "cell_type": "code",
   "execution_count": null,
   "id": "peripheral-fifth",
   "metadata": {},
   "outputs": [],
   "source": [
    "# temperatura = 34.695089905271566 - -30.94895137 * Humidity "
   ]
  },
  {
   "cell_type": "code",
   "execution_count": 52,
   "id": "portable-wholesale",
   "metadata": {},
   "outputs": [],
   "source": [
    "y_pred = lm.predict(X_test)"
   ]
  },
  {
   "cell_type": "code",
   "execution_count": 53,
   "id": "japanese-municipality",
   "metadata": {},
   "outputs": [],
   "source": [
    "from sklearn.metrics import r2_score\n",
    "from sklearn.metrics import mean_absolute_error\n",
    "from sklearn.metrics import mean_squared_error"
   ]
  },
  {
   "cell_type": "code",
   "execution_count": 56,
   "id": "characteristic-gibson",
   "metadata": {},
   "outputs": [
    {
     "name": "stdout",
     "output_type": "stream",
     "text": [
      "R2: 0.39512290044853393\n",
      "MAE:  6.063652550192406\n",
      "MSE: 55.368656325106386\n",
      "RMSE: 7.44101178100844\n"
     ]
    }
   ],
   "source": [
    "print('R2:', r2_score(Y_test, y_pred))\n",
    "print('MAE: ', mean_absolute_error(Y_test, y_pred))\n",
    "print('MSE:', mean_squared_error(Y_test, y_pred))\n",
    "print('RMSE:', np.sqrt(mean_squared_error(Y_test, y_pred)))"
   ]
  },
  {
   "cell_type": "markdown",
   "id": "operating-hearing",
   "metadata": {},
   "source": [
    "### Regressão Linear Multipla"
   ]
  },
  {
   "cell_type": "code",
   "execution_count": 103,
   "id": "exterior-universe",
   "metadata": {},
   "outputs": [],
   "source": [
    "# X = df[['Humidity']]\n",
    "Z = df[['Humidity', 'Pressure (millibars)', 'precip-type-rain', 'precipt-type-snow']]"
   ]
  },
  {
   "cell_type": "code",
   "execution_count": 104,
   "id": "capable-newton",
   "metadata": {},
   "outputs": [],
   "source": [
    "X_train, X_test, Y_train, Y_test = train_test_split(Z, Y, test_size=0.3)"
   ]
  },
  {
   "cell_type": "code",
   "execution_count": 105,
   "id": "young-motion",
   "metadata": {},
   "outputs": [
    {
     "data": {
      "text/plain": [
       "LinearRegression(copy_X=True, fit_intercept=True, n_jobs=None,\n",
       "         normalize=False)"
      ]
     },
     "execution_count": 105,
     "metadata": {},
     "output_type": "execute_result"
    }
   ],
   "source": [
    "lm.fit(X_train, Y_train)"
   ]
  },
  {
   "cell_type": "code",
   "execution_count": 106,
   "id": "finished-fashion",
   "metadata": {},
   "outputs": [
    {
     "data": {
      "text/plain": [
       "array([-25.85411157,   0.08604366,   2.73911189, -10.68907539])"
      ]
     },
     "execution_count": 106,
     "metadata": {},
     "output_type": "execute_result"
    }
   ],
   "source": [
    "lm.coef_"
   ]
  },
  {
   "cell_type": "code",
   "execution_count": 107,
   "id": "resistant-methodology",
   "metadata": {},
   "outputs": [],
   "source": [
    "y_pred = lm.predict(X_test)"
   ]
  },
  {
   "cell_type": "code",
   "execution_count": 108,
   "id": "julian-liberia",
   "metadata": {},
   "outputs": [
    {
     "name": "stdout",
     "output_type": "stream",
     "text": [
      "R2: 0.5822032414712719\n",
      "MAE:  5.101873383107261\n",
      "MSE: 38.08847189120521\n",
      "RMSE: 6.171585848969875\n"
     ]
    }
   ],
   "source": [
    "print('R2:', r2_score(Y_test, y_pred))\n",
    "print('MAE: ', mean_absolute_error(Y_test, y_pred))\n",
    "print('MSE:', mean_squared_error(Y_test, y_pred))\n",
    "print('RMSE:', np.sqrt(mean_squared_error(Y_test, y_pred)))"
   ]
  },
  {
   "cell_type": "markdown",
   "id": "foster-lying",
   "metadata": {},
   "source": [
    "## Polinomial"
   ]
  },
  {
   "cell_type": "code",
   "execution_count": 109,
   "id": "received-chart",
   "metadata": {},
   "outputs": [],
   "source": [
    "x = df['Humidity']\n",
    "y = df['Temperature (C)']"
   ]
  },
  {
   "cell_type": "code",
   "execution_count": 110,
   "id": "literary-sustainability",
   "metadata": {},
   "outputs": [
    {
     "name": "stdout",
     "output_type": "stream",
     "text": [
      "       2\n",
      "13.03 x - 48.22 x + 39.83\n"
     ]
    }
   ],
   "source": [
    "f = np.polyfit(x, y, 2)\n",
    "p = np.poly1d(f)\n",
    "print(p)"
   ]
  },
  {
   "cell_type": "code",
   "execution_count": 111,
   "id": "prescribed-concord",
   "metadata": {},
   "outputs": [],
   "source": [
    "from sklearn.preprocessing import PolynomialFeatures"
   ]
  },
  {
   "cell_type": "code",
   "execution_count": 112,
   "id": "infrared-terrorism",
   "metadata": {},
   "outputs": [
    {
     "data": {
      "text/plain": [
       "PolynomialFeatures(degree=2, include_bias=True, interaction_only=False)"
      ]
     },
     "execution_count": 112,
     "metadata": {},
     "output_type": "execute_result"
    }
   ],
   "source": [
    "pr = PolynomialFeatures(degree=2)\n",
    "pr"
   ]
  },
  {
   "cell_type": "code",
   "execution_count": 114,
   "id": "voluntary-register",
   "metadata": {},
   "outputs": [],
   "source": [
    "X_train, X_test, Y_train, Y_test = train_test_split(X, Y, test_size=0.3)"
   ]
  },
  {
   "cell_type": "code",
   "execution_count": 116,
   "id": "mechanical-recording",
   "metadata": {},
   "outputs": [],
   "source": [
    "x_train_pr = pr.fit_transform(X_train)\n",
    "x_test_pr = pr.fit_transform(X_test)"
   ]
  },
  {
   "cell_type": "code",
   "execution_count": 117,
   "id": "informal-louis",
   "metadata": {},
   "outputs": [
    {
     "data": {
      "text/plain": [
       "LinearRegression(copy_X=True, fit_intercept=True, n_jobs=None,\n",
       "         normalize=False)"
      ]
     },
     "execution_count": 117,
     "metadata": {},
     "output_type": "execute_result"
    }
   ],
   "source": [
    "plr = LinearRegression()\n",
    "plr"
   ]
  },
  {
   "cell_type": "code",
   "execution_count": 118,
   "id": "lesbian-samuel",
   "metadata": {},
   "outputs": [
    {
     "data": {
      "text/plain": [
       "LinearRegression(copy_X=True, fit_intercept=True, n_jobs=None,\n",
       "         normalize=False)"
      ]
     },
     "execution_count": 118,
     "metadata": {},
     "output_type": "execute_result"
    }
   ],
   "source": [
    "plr.fit(x_train_pr, Y_train)"
   ]
  },
  {
   "cell_type": "code",
   "execution_count": 120,
   "id": "welsh-ministry",
   "metadata": {},
   "outputs": [
    {
     "data": {
      "text/plain": [
       "0.40632691378653385"
      ]
     },
     "execution_count": 120,
     "metadata": {},
     "output_type": "execute_result"
    }
   ],
   "source": [
    "plr.score(x_train_pr, Y_train)"
   ]
  },
  {
   "cell_type": "code",
   "execution_count": 121,
   "id": "thrown-nancy",
   "metadata": {},
   "outputs": [],
   "source": [
    "yhat = plr.predict(x_test_pr)"
   ]
  },
  {
   "cell_type": "code",
   "execution_count": 122,
   "id": "miniature-major",
   "metadata": {},
   "outputs": [
    {
     "name": "stdout",
     "output_type": "stream",
     "text": [
      "R2: 0.39352825910178213\n",
      "MAE:  6.0429218524400214\n",
      "MSE: 55.08720383926478\n",
      "RMSE: 7.422075440149122\n"
     ]
    }
   ],
   "source": [
    "print('R2:', r2_score(Y_test, yhat))\n",
    "print('MAE: ', mean_absolute_error(Y_test, yhat))\n",
    "print('MSE:', mean_squared_error(Y_test, yhat))\n",
    "print('RMSE:', np.sqrt(mean_squared_error(Y_test, yhat)))"
   ]
  },
  {
   "cell_type": "markdown",
   "id": "prescribed-indianapolis",
   "metadata": {},
   "source": [
    "## Pipeline"
   ]
  },
  {
   "cell_type": "code",
   "execution_count": 123,
   "id": "cognitive-tobacco",
   "metadata": {},
   "outputs": [],
   "source": [
    "from sklearn.pipeline import Pipeline\n",
    "from sklearn.preprocessing import StandardScaler"
   ]
  },
  {
   "cell_type": "code",
   "execution_count": 139,
   "id": "sixth-proposal",
   "metadata": {},
   "outputs": [],
   "source": [
    "Input = [('scale', StandardScaler()), ('polynomial', PolynomialFeatures(degree=5)),('model',LinearRegression())]"
   ]
  },
  {
   "cell_type": "code",
   "execution_count": 140,
   "id": "finite-gender",
   "metadata": {},
   "outputs": [
    {
     "data": {
      "text/plain": [
       "Pipeline(memory=None,\n",
       "     steps=[('scale', StandardScaler(copy=True, with_mean=True, with_std=True)), ('polynomial', PolynomialFeatures(degree=5, include_bias=True, interaction_only=False)), ('model', LinearRegression(copy_X=True, fit_intercept=True, n_jobs=None,\n",
       "         normalize=False))])"
      ]
     },
     "execution_count": 140,
     "metadata": {},
     "output_type": "execute_result"
    }
   ],
   "source": [
    "pipe = Pipeline(Input)\n",
    "pipe"
   ]
  },
  {
   "cell_type": "code",
   "execution_count": 141,
   "id": "bacterial-anthropology",
   "metadata": {},
   "outputs": [
    {
     "data": {
      "text/plain": [
       "Pipeline(memory=None,\n",
       "     steps=[('scale', StandardScaler(copy=True, with_mean=True, with_std=True)), ('polynomial', PolynomialFeatures(degree=5, include_bias=True, interaction_only=False)), ('model', LinearRegression(copy_X=True, fit_intercept=True, n_jobs=None,\n",
       "         normalize=False))])"
      ]
     },
     "execution_count": 141,
     "metadata": {},
     "output_type": "execute_result"
    }
   ],
   "source": [
    "pipe.fit(X_train, Y_train)"
   ]
  },
  {
   "cell_type": "code",
   "execution_count": 142,
   "id": "lucky-continuity",
   "metadata": {},
   "outputs": [],
   "source": [
    "ypipe = pipe.predict(X_test)"
   ]
  },
  {
   "cell_type": "code",
   "execution_count": 143,
   "id": "protective-meditation",
   "metadata": {},
   "outputs": [
    {
     "name": "stdout",
     "output_type": "stream",
     "text": [
      "R2: 0.4052560467545505\n",
      "MAE:  6.022693995862825\n",
      "MSE: 54.02194228551979\n",
      "RMSE: 7.349962060141521\n"
     ]
    }
   ],
   "source": [
    "print('R2:', r2_score(Y_test, ypipe))\n",
    "print('MAE: ', mean_absolute_error(Y_test, ypipe))\n",
    "print('MSE:', mean_squared_error(Y_test, ypipe))\n",
    "print('RMSE:', np.sqrt(mean_squared_error(Y_test, ypipe)))"
   ]
  },
  {
   "cell_type": "code",
   "execution_count": null,
   "id": "certified-comparative",
   "metadata": {},
   "outputs": [],
   "source": []
  }
 ],
 "metadata": {
  "kernelspec": {
   "display_name": "Python 3",
   "language": "python",
   "name": "python3"
  },
  "language_info": {
   "codemirror_mode": {
    "name": "ipython",
    "version": 3
   },
   "file_extension": ".py",
   "mimetype": "text/x-python",
   "name": "python",
   "nbconvert_exporter": "python",
   "pygments_lexer": "ipython3",
   "version": "3.6.9"
  }
 },
 "nbformat": 4,
 "nbformat_minor": 5
}
