{
 "cells": [
  {
   "cell_type": "markdown",
   "id": "excessive-tennessee",
   "metadata": {},
   "source": [
    "# Desenvolvendo um Modelo\n",
    "\n",
    "<p> Nesta seção, iremos desenvolver vários modelos que irão prever o preço do carro usando as suas características. Esta é apenas uma estimativa, mas deve nos dar uma ideia objetiva de quanto o carro deve custar. </p>\n",
    "\n",
    "Algumas perguntas que podemos fazer:\n",
    "\n",
    "<ul>\n",
    "     <li> eu sei se o revendedor está oferecendo um valor justo pela minha troca? </li>\n",
    "     <li> eu sei se valorizo meu carro? </li>\n",
    "</ul>\n",
    "\n",
    "<p> Geralmente usamos um <b> modelo </b> para nos ajudar a prever observações futuras a partir dos dados que temos. </p>\n",
    "\n",
    "<p> Um modelo nos ajudará a entender a relação exata entre as diferentes variáveis e como essas variáveis são usadas para prever o resultado. </p>"
   ]
  },
  {
   "cell_type": "code",
   "execution_count": 2,
   "id": "postal-defeat",
   "metadata": {},
   "outputs": [
    {
     "name": "stderr",
     "output_type": "stream",
     "text": [
      "\n",
      "Bad key savefig.frameon in file /home/anderson/.local/lib/python3.6/site-packages/matplotlib/mpl-data/stylelib/_classic_test.mplstyle, line 421 ('savefig.frameon : True')\n",
      "You probably need to get an updated matplotlibrc file from\n",
      "https://github.com/matplotlib/matplotlib/blob/v3.3.4/matplotlibrc.template\n",
      "or from the matplotlib source distribution\n",
      "\n",
      "Bad key verbose.level in file /home/anderson/.local/lib/python3.6/site-packages/matplotlib/mpl-data/stylelib/_classic_test.mplstyle, line 472 ('verbose.level  : silent      # one of silent, helpful, debug, debug-annoying')\n",
      "You probably need to get an updated matplotlibrc file from\n",
      "https://github.com/matplotlib/matplotlib/blob/v3.3.4/matplotlibrc.template\n",
      "or from the matplotlib source distribution\n",
      "\n",
      "Bad key verbose.fileo in file /home/anderson/.local/lib/python3.6/site-packages/matplotlib/mpl-data/stylelib/_classic_test.mplstyle, line 473 ('verbose.fileo  : sys.stdout  # a log filename, sys.stdout or sys.stderr')\n",
      "You probably need to get an updated matplotlibrc file from\n",
      "https://github.com/matplotlib/matplotlib/blob/v3.3.4/matplotlibrc.template\n",
      "or from the matplotlib source distribution\n",
      "In /home/anderson/.local/lib/python3.6/site-packages/matplotlib/mpl-data/stylelib/_classic_test.mplstyle: \n",
      "The text.latex.preview rcparam was deprecated in Matplotlib 3.3 and will be removed two minor releases later.\n",
      "In /home/anderson/.local/lib/python3.6/site-packages/matplotlib/mpl-data/stylelib/_classic_test.mplstyle: \n",
      "The mathtext.fallback_to_cm rcparam was deprecated in Matplotlib 3.3 and will be removed two minor releases later.\n",
      "In /home/anderson/.local/lib/python3.6/site-packages/matplotlib/mpl-data/stylelib/_classic_test.mplstyle: Support for setting the 'mathtext.fallback_to_cm' rcParam is deprecated since 3.3 and will be removed two minor releases later; use 'mathtext.fallback : 'cm' instead.\n",
      "In /home/anderson/.local/lib/python3.6/site-packages/matplotlib/mpl-data/stylelib/_classic_test.mplstyle: \n",
      "The validate_bool_maybe_none function was deprecated in Matplotlib 3.3 and will be removed two minor releases later.\n",
      "In /home/anderson/.local/lib/python3.6/site-packages/matplotlib/mpl-data/stylelib/_classic_test.mplstyle: \n",
      "The savefig.jpeg_quality rcparam was deprecated in Matplotlib 3.3 and will be removed two minor releases later.\n",
      "In /home/anderson/.local/lib/python3.6/site-packages/matplotlib/mpl-data/stylelib/_classic_test.mplstyle: \n",
      "The keymap.all_axes rcparam was deprecated in Matplotlib 3.3 and will be removed two minor releases later.\n",
      "In /home/anderson/.local/lib/python3.6/site-packages/matplotlib/mpl-data/stylelib/_classic_test.mplstyle: \n",
      "The animation.avconv_path rcparam was deprecated in Matplotlib 3.3 and will be removed two minor releases later.\n",
      "In /home/anderson/.local/lib/python3.6/site-packages/matplotlib/mpl-data/stylelib/_classic_test.mplstyle: \n",
      "The animation.avconv_args rcparam was deprecated in Matplotlib 3.3 and will be removed two minor releases later.\n"
     ]
    }
   ],
   "source": [
    "import pandas as pd\n",
    "import numpy as np\n",
    "import matplotlib.pyplot as plt"
   ]
  },
  {
   "cell_type": "code",
   "execution_count": 3,
   "id": "technical-violin",
   "metadata": {},
   "outputs": [
    {
     "data": {
      "text/html": [
       "<div>\n",
       "<style scoped>\n",
       "    .dataframe tbody tr th:only-of-type {\n",
       "        vertical-align: middle;\n",
       "    }\n",
       "\n",
       "    .dataframe tbody tr th {\n",
       "        vertical-align: top;\n",
       "    }\n",
       "\n",
       "    .dataframe thead th {\n",
       "        text-align: right;\n",
       "    }\n",
       "</style>\n",
       "<table border=\"1\" class=\"dataframe\">\n",
       "  <thead>\n",
       "    <tr style=\"text-align: right;\">\n",
       "      <th></th>\n",
       "      <th>Unnamed: 0</th>\n",
       "      <th>symboling</th>\n",
       "      <th>normalized-losses</th>\n",
       "      <th>make</th>\n",
       "      <th>fuel-type</th>\n",
       "      <th>aspiration</th>\n",
       "      <th>num-of-doors</th>\n",
       "      <th>body-style</th>\n",
       "      <th>drive-wheels</th>\n",
       "      <th>engine-location</th>\n",
       "      <th>...</th>\n",
       "      <th>peak-rpm</th>\n",
       "      <th>city-mpg</th>\n",
       "      <th>highway-L/100km</th>\n",
       "      <th>price</th>\n",
       "      <th>city-L/100km</th>\n",
       "      <th>horsepower-binned</th>\n",
       "      <th>fuel-type-diesel</th>\n",
       "      <th>fuel-type-gas</th>\n",
       "      <th>aspiration-std</th>\n",
       "      <th>aspiration-turbo</th>\n",
       "    </tr>\n",
       "  </thead>\n",
       "  <tbody>\n",
       "    <tr>\n",
       "      <th>0</th>\n",
       "      <td>0</td>\n",
       "      <td>3</td>\n",
       "      <td>122</td>\n",
       "      <td>alfa-romero</td>\n",
       "      <td>gas</td>\n",
       "      <td>std</td>\n",
       "      <td>two</td>\n",
       "      <td>convertible</td>\n",
       "      <td>rwd</td>\n",
       "      <td>front</td>\n",
       "      <td>...</td>\n",
       "      <td>5000.0</td>\n",
       "      <td>21</td>\n",
       "      <td>8.703704</td>\n",
       "      <td>13495.0</td>\n",
       "      <td>11.190476</td>\n",
       "      <td>Low</td>\n",
       "      <td>0</td>\n",
       "      <td>1</td>\n",
       "      <td>1</td>\n",
       "      <td>0</td>\n",
       "    </tr>\n",
       "    <tr>\n",
       "      <th>1</th>\n",
       "      <td>1</td>\n",
       "      <td>3</td>\n",
       "      <td>122</td>\n",
       "      <td>alfa-romero</td>\n",
       "      <td>gas</td>\n",
       "      <td>std</td>\n",
       "      <td>two</td>\n",
       "      <td>convertible</td>\n",
       "      <td>rwd</td>\n",
       "      <td>front</td>\n",
       "      <td>...</td>\n",
       "      <td>5000.0</td>\n",
       "      <td>21</td>\n",
       "      <td>8.703704</td>\n",
       "      <td>16500.0</td>\n",
       "      <td>11.190476</td>\n",
       "      <td>Low</td>\n",
       "      <td>0</td>\n",
       "      <td>1</td>\n",
       "      <td>1</td>\n",
       "      <td>0</td>\n",
       "    </tr>\n",
       "    <tr>\n",
       "      <th>2</th>\n",
       "      <td>2</td>\n",
       "      <td>1</td>\n",
       "      <td>122</td>\n",
       "      <td>alfa-romero</td>\n",
       "      <td>gas</td>\n",
       "      <td>std</td>\n",
       "      <td>two</td>\n",
       "      <td>hatchback</td>\n",
       "      <td>rwd</td>\n",
       "      <td>front</td>\n",
       "      <td>...</td>\n",
       "      <td>5000.0</td>\n",
       "      <td>19</td>\n",
       "      <td>9.038462</td>\n",
       "      <td>16500.0</td>\n",
       "      <td>12.368421</td>\n",
       "      <td>Medium</td>\n",
       "      <td>0</td>\n",
       "      <td>1</td>\n",
       "      <td>1</td>\n",
       "      <td>0</td>\n",
       "    </tr>\n",
       "    <tr>\n",
       "      <th>3</th>\n",
       "      <td>3</td>\n",
       "      <td>2</td>\n",
       "      <td>164</td>\n",
       "      <td>audi</td>\n",
       "      <td>gas</td>\n",
       "      <td>std</td>\n",
       "      <td>four</td>\n",
       "      <td>sedan</td>\n",
       "      <td>fwd</td>\n",
       "      <td>front</td>\n",
       "      <td>...</td>\n",
       "      <td>5500.0</td>\n",
       "      <td>24</td>\n",
       "      <td>7.833333</td>\n",
       "      <td>13950.0</td>\n",
       "      <td>9.791667</td>\n",
       "      <td>Low</td>\n",
       "      <td>0</td>\n",
       "      <td>1</td>\n",
       "      <td>1</td>\n",
       "      <td>0</td>\n",
       "    </tr>\n",
       "    <tr>\n",
       "      <th>4</th>\n",
       "      <td>4</td>\n",
       "      <td>2</td>\n",
       "      <td>164</td>\n",
       "      <td>audi</td>\n",
       "      <td>gas</td>\n",
       "      <td>std</td>\n",
       "      <td>four</td>\n",
       "      <td>sedan</td>\n",
       "      <td>4wd</td>\n",
       "      <td>front</td>\n",
       "      <td>...</td>\n",
       "      <td>5500.0</td>\n",
       "      <td>18</td>\n",
       "      <td>10.681818</td>\n",
       "      <td>17450.0</td>\n",
       "      <td>13.055556</td>\n",
       "      <td>Low</td>\n",
       "      <td>0</td>\n",
       "      <td>1</td>\n",
       "      <td>1</td>\n",
       "      <td>0</td>\n",
       "    </tr>\n",
       "  </tbody>\n",
       "</table>\n",
       "<p>5 rows × 33 columns</p>\n",
       "</div>"
      ],
      "text/plain": [
       "   Unnamed: 0  symboling  normalized-losses         make fuel-type aspiration  \\\n",
       "0           0          3                122  alfa-romero       gas        std   \n",
       "1           1          3                122  alfa-romero       gas        std   \n",
       "2           2          1                122  alfa-romero       gas        std   \n",
       "3           3          2                164         audi       gas        std   \n",
       "4           4          2                164         audi       gas        std   \n",
       "\n",
       "  num-of-doors   body-style drive-wheels engine-location  ...  peak-rpm  \\\n",
       "0          two  convertible          rwd           front  ...    5000.0   \n",
       "1          two  convertible          rwd           front  ...    5000.0   \n",
       "2          two    hatchback          rwd           front  ...    5000.0   \n",
       "3         four        sedan          fwd           front  ...    5500.0   \n",
       "4         four        sedan          4wd           front  ...    5500.0   \n",
       "\n",
       "   city-mpg  highway-L/100km    price  city-L/100km horsepower-binned  \\\n",
       "0        21         8.703704  13495.0     11.190476               Low   \n",
       "1        21         8.703704  16500.0     11.190476               Low   \n",
       "2        19         9.038462  16500.0     12.368421            Medium   \n",
       "3        24         7.833333  13950.0      9.791667               Low   \n",
       "4        18        10.681818  17450.0     13.055556               Low   \n",
       "\n",
       "  fuel-type-diesel  fuel-type-gas aspiration-std  aspiration-turbo  \n",
       "0                0              1              1                 0  \n",
       "1                0              1              1                 0  \n",
       "2                0              1              1                 0  \n",
       "3                0              1              1                 0  \n",
       "4                0              1              1                 0  \n",
       "\n",
       "[5 rows x 33 columns]"
      ]
     },
     "execution_count": 3,
     "metadata": {},
     "output_type": "execute_result"
    }
   ],
   "source": [
    "df = pd.read_csv('clean_auto_df.csv')\n",
    "df.head()"
   ]
  },
  {
   "cell_type": "markdown",
   "id": "possible-assistant",
   "metadata": {},
   "source": [
    "<h3>Regressão Linear e Regressão Linear Múltipla </h3>"
   ]
  },
  {
   "cell_type": "markdown",
   "id": "directed-walter",
   "metadata": {},
   "source": [
    "<h4> Regressão Linear </h4>\n",
    "\n",
    "<p> Um exemplo de modelo que usaremos é a</p>\n",
    "<b> Regressão Linear Simples </b>.\n",
    "\n",
    "<br>\n",
    "<p> A regressão linear simples é um método para nos ajudar a entender a relação entre duas variáveis: </p>\n",
    "<ul>\n",
    "     <li> O preditor / variável independente (X) </li>\n",
    "     <li> A resposta / variável dependente (que queremos prever) (Y) </li>\n",
    "</ul>\n",
    "\n",
    "<p> O resultado da regressão linear é uma <b>função linear </b> que prevê a variável de resposta (dependente) como uma função da variável preditora (independente). </p>"
   ]
  },
  {
   "cell_type": "markdown",
   "id": "bound-maine",
   "metadata": {},
   "source": [
    "$$\n",
    " Y: Response \\ Variable\\\\\n",
    " X: Predictor \\ Variables\n",
    "$$\n",
    "\n",
    "\n",
    "<b>Linear function:</b>\n",
    "$$\n",
    "Yhat = a + b  X\n",
    "$$\n"
   ]
  },
  {
   "cell_type": "markdown",
   "id": "technical-class",
   "metadata": {},
   "source": [
    "<ul>\n",
    "     <li> a refere-se à <b> interceptação </b> da linha de regressão 0, em outras palavras: o valor de Y quando X é 0 </li>\n",
    "     <li> b refere-se à <b> inclinação </b> da linha de regressão, em outras palavras: o valor com o qual Y muda quando X aumenta em 1 unidade </li>\n",
    "</ul>"
   ]
  },
  {
   "cell_type": "code",
   "execution_count": 4,
   "id": "horizontal-snowboard",
   "metadata": {},
   "outputs": [],
   "source": [
    "# Carregando os módulos da regressão linear\n",
    "from sklearn.linear_model import LinearRegression"
   ]
  },
  {
   "cell_type": "code",
   "execution_count": 5,
   "id": "sporting-syracuse",
   "metadata": {},
   "outputs": [
    {
     "data": {
      "text/plain": [
       "LinearRegression(copy_X=True, fit_intercept=True, n_jobs=None,\n",
       "         normalize=False)"
      ]
     },
     "execution_count": 5,
     "metadata": {},
     "output_type": "execute_result"
    }
   ],
   "source": [
    "# Criando um objeto da classe de regressão linear\n",
    "lm = LinearRegression()\n",
    "lm"
   ]
  },
  {
   "cell_type": "markdown",
   "id": "worthy-selection",
   "metadata": {},
   "source": [
    "<h4>A variável city-mpg pode nos ajudar a prever o preço do carro?</h4"
   ]
  },
  {
   "cell_type": "markdown",
   "id": "pregnant-thumbnail",
   "metadata": {},
   "source": [
    "Para este exemplo, queremos ver como a city-mpg pode nos ajudar a prever o preço do carro.\n",
    "Usando regressão linear simples, criaremos uma função linear com \"city-mpg\" como variável preditora e o \"price\" como variável de resposta."
   ]
  },
  {
   "cell_type": "code",
   "execution_count": 6,
   "id": "speaking-psychiatry",
   "metadata": {},
   "outputs": [
    {
     "data": {
      "text/plain": [
       "LinearRegression(copy_X=True, fit_intercept=True, n_jobs=None,\n",
       "         normalize=False)"
      ]
     },
     "execution_count": 6,
     "metadata": {},
     "output_type": "execute_result"
    }
   ],
   "source": [
    "X = df[['city-mpg']]\n",
    "Y = df['price']\n",
    "lm.fit(X,Y)"
   ]
  },
  {
   "cell_type": "code",
   "execution_count": 7,
   "id": "becoming-eugene",
   "metadata": {},
   "outputs": [
    {
     "data": {
      "text/plain": [
       "array([16757.08312743, 16757.08312743, 18455.98957651, 14208.72345381,\n",
       "       19305.44280105])"
      ]
     },
     "execution_count": 7,
     "metadata": {},
     "output_type": "execute_result"
    }
   ],
   "source": [
    "Yhat=lm.predict(X)\n",
    "Yhat[0:5]  "
   ]
  },
  {
   "cell_type": "code",
   "execution_count": 8,
   "id": "veterinary-qatar",
   "metadata": {},
   "outputs": [
    {
     "data": {
      "text/plain": [
       "34595.600842778265"
      ]
     },
     "execution_count": 8,
     "metadata": {},
     "output_type": "execute_result"
    }
   ],
   "source": [
    "# o valor de interceptação\n",
    "lm.intercept_"
   ]
  },
  {
   "cell_type": "code",
   "execution_count": 9,
   "id": "institutional-plasma",
   "metadata": {},
   "outputs": [
    {
     "data": {
      "text/plain": [
       "array([-849.45322454])"
      ]
     },
     "execution_count": 9,
     "metadata": {},
     "output_type": "execute_result"
    }
   ],
   "source": [
    "# o valor de inclinação\n",
    "lm.coef_"
   ]
  },
  {
   "cell_type": "markdown",
   "id": "enormous-mistake",
   "metadata": {},
   "source": [
    "Com esses valores, se utilizarmos a função:\n",
    "\n",
    "$$\n",
    "Yhat = a + b  X\n",
    "$$\n",
    "\n",
    "Teremos:\n",
    "\n",
    "price = 38423.31 - 821.73 * city-mpg\n"
   ]
  },
  {
   "cell_type": "markdown",
   "id": "impressed-peace",
   "metadata": {},
   "source": [
    "<h4>Testando com outra variável:</h4>"
   ]
  },
  {
   "cell_type": "code",
   "execution_count": 10,
   "id": "adapted-shooting",
   "metadata": {},
   "outputs": [
    {
     "data": {
      "text/plain": [
       "LinearRegression(copy_X=True, fit_intercept=True, n_jobs=None,\n",
       "         normalize=False)"
      ]
     },
     "execution_count": 10,
     "metadata": {},
     "output_type": "execute_result"
    }
   ],
   "source": [
    "lm1 = LinearRegression()\n",
    "lm1.fit(df[['engine-size']], df[['price']])"
   ]
  },
  {
   "cell_type": "code",
   "execution_count": 11,
   "id": "loving-allocation",
   "metadata": {},
   "outputs": [
    {
     "data": {
      "text/plain": [
       "array([[166.86001569]])"
      ]
     },
     "execution_count": 11,
     "metadata": {},
     "output_type": "execute_result"
    }
   ],
   "source": [
    "# Inclinação \n",
    "lm1.coef_"
   ]
  },
  {
   "cell_type": "code",
   "execution_count": 12,
   "id": "refined-single",
   "metadata": {},
   "outputs": [
    {
     "data": {
      "text/plain": [
       "array([-7963.33890628])"
      ]
     },
     "execution_count": 12,
     "metadata": {},
     "output_type": "execute_result"
    }
   ],
   "source": [
    "# Interceptação\n",
    "lm1.intercept_"
   ]
  },
  {
   "cell_type": "markdown",
   "id": "ranging-crime",
   "metadata": {},
   "source": [
    "##### Utilizando a função:  \n",
    "Yhat= a + b*X\n",
    "\n",
    "##### temos:\n",
    "price=-7963.34 + 166.86*engine-size"
   ]
  },
  {
   "cell_type": "markdown",
   "id": "speaking-beads",
   "metadata": {},
   "source": [
    "<h4> Regressão Linear Múltipla</h4>\n",
    "\n",
    "<p> E se quisermos prever o preço do carro usando mais de uma variável? </p>\n",
    "\n",
    "<p> Se quisermos usar mais variáveis em nosso modelo para prever o preço do carro, podemos usar <b> Regressão linear múltipla </b>.\n",
    "    \n",
    "A Regressão Linear Múltipla é muito semelhante à Regressão Linear Simples, mas este método é usado para explicar a relação entre uma variável de resposta contínua (dependente) e <b> duas ou mais </b> variáveis preditoras (independentes).\n",
    "\n",
    "A maioria dos modelos de regressão do mundo real envolve vários preditores. Ilustraremos a estrutura usando quatro variáveis preditoras, mas esses resultados podem ser generalizados para qualquer número inteiro: </p>\n"
   ]
  },
  {
   "cell_type": "markdown",
   "id": "accompanied-regular",
   "metadata": {},
   "source": [
    "$$\n",
    "Y: Response \\ Variable\\\\\n",
    "X_1 :Predictor\\ Variable \\ 1\\\\\n",
    "X_2: Predictor\\ Variable \\ 2\\\\\n",
    "X_3: Predictor\\ Variable \\ 3\\\\\n",
    "X_4: Predictor\\ Variable \\ 4\\\\\n",
    "$$"
   ]
  },
  {
   "cell_type": "markdown",
   "id": "heavy-taxation",
   "metadata": {},
   "source": [
    "$$\n",
    "a: intercept\\\\\n",
    "b_1 :coefficients \\ of\\ Variable \\ 1\\\\\n",
    "b_2: coefficients \\ of\\ Variable \\ 2\\\\\n",
    "b_3: coefficients \\ of\\ Variable \\ 3\\\\\n",
    "b_4: coefficients \\ of\\ Variable \\ 4\\\\\n",
    "$$"
   ]
  },
  {
   "cell_type": "markdown",
   "id": "numerical-roulette",
   "metadata": {},
   "source": [
    "A equação é dada por:\n",
    "\n",
    "$$\n",
    "Yhat = a + b_1 X_1 + b_2 X_2 + b_3 X_3 + b_4 X_4\n",
    "$$\n"
   ]
  },
  {
   "cell_type": "markdown",
   "id": "delayed-michigan",
   "metadata": {},
   "source": [
    "<p>Analisamos em outros notebooks que algumas variáveis podem ser boas para prever o preço do carro:</p>\n",
    "<ul>\n",
    "    <li>Horsepower</li>\n",
    "    <li>Curb-weight</li>\n",
    "    <li>Engine-size</li>\n",
    "    <li>city-mpg</li>\n",
    "</ul>\n",
    "\n",
    "Vamos criar um modelo com essas variaveis como nossas variaveis preditoras"
   ]
  },
  {
   "cell_type": "code",
   "execution_count": 13,
   "id": "temporal-chain",
   "metadata": {},
   "outputs": [],
   "source": [
    "Z = df[['horsepower', 'curb-weight', 'engine-size', 'city-mpg']]"
   ]
  },
  {
   "cell_type": "code",
   "execution_count": 14,
   "id": "champion-anniversary",
   "metadata": {},
   "outputs": [
    {
     "data": {
      "text/plain": [
       "LinearRegression(copy_X=True, fit_intercept=True, n_jobs=None,\n",
       "         normalize=False)"
      ]
     },
     "execution_count": 14,
     "metadata": {},
     "output_type": "execute_result"
    }
   ],
   "source": [
    "lm.fit(Z, df['price'])"
   ]
  },
  {
   "cell_type": "code",
   "execution_count": 15,
   "id": "reverse-mortality",
   "metadata": {},
   "outputs": [
    {
     "data": {
      "text/plain": [
       "-14724.335048793768"
      ]
     },
     "execution_count": 15,
     "metadata": {},
     "output_type": "execute_result"
    }
   ],
   "source": [
    "# valor do intercepto\n",
    "\n",
    "lm.intercept_"
   ]
  },
  {
   "cell_type": "code",
   "execution_count": 16,
   "id": "agricultural-builder",
   "metadata": {},
   "outputs": [
    {
     "data": {
      "text/plain": [
       "array([52.0127169 ,  4.53483658, 82.4461543 , 19.98706615])"
      ]
     },
     "execution_count": 16,
     "metadata": {},
     "output_type": "execute_result"
    }
   ],
   "source": [
    "# valor do coeficiente\n",
    "\n",
    "lm.coef_"
   ]
  },
  {
   "cell_type": "markdown",
   "id": "sorted-vault",
   "metadata": {},
   "source": [
    "Se substituirmos a equação pelos valores que obtivemos, temos:\n",
    "\n",
    "$$\n",
    "Yhat = a + b_1 X_1 + b_2 X_2 + b_3 X_3 + b_4 X_4\n",
    "$$\n",
    "\n",
    "<b>Price</b> = -15678.742628061467 + 52.65851272 x <b>horsepower</b> + 4.69878948 x <b>curb-weight</b> + 81.95906216 x <b>engine-size</b> + 33.58258185 x <b>city-mpg</b>"
   ]
  },
  {
   "cell_type": "markdown",
   "id": "nonprofit-duplicate",
   "metadata": {},
   "source": [
    "<h3>Avaliação de modelo usando visualização </h3>"
   ]
  },
  {
   "cell_type": "code",
   "execution_count": 17,
   "id": "falling-teens",
   "metadata": {},
   "outputs": [],
   "source": [
    "import seaborn as sns\n",
    "%matplotlib inline "
   ]
  },
  {
   "cell_type": "markdown",
   "id": "empty-august",
   "metadata": {},
   "source": [
    "<h3>Regression Plot</h3>\n",
    "\n",
    "<p> Quando se trata de regressão linear simples, uma excelente maneira de visualizar o ajuste do nosso modelo é usando <b> gráficos de regressão </b>. </p>\n",
    "\n",
    "<p> Este gráfico mostrará uma combinação de pontos de dados dispersos (um <b> gráfico de dispersão </b>), bem como a linha de <b> regressão linear </b> ajustada passando pelos dados. Isso nos dará uma estimativa razoável da relação entre as duas variáveis, a força da correlação, bem como a direção (correlação positiva ou negativa). </p>"
   ]
  },
  {
   "cell_type": "code",
   "execution_count": 18,
   "id": "adjustable-emergency",
   "metadata": {},
   "outputs": [
    {
     "data": {
      "text/plain": [
       "(0.0, 48237.68102087139)"
      ]
     },
     "execution_count": 18,
     "metadata": {},
     "output_type": "execute_result"
    },
    {
     "data": {
      "image/png": "[encoded data removed]",
      "text/plain": [
       "<Figure size 864x720 with 1 Axes>"
      ]
     },
     "metadata": {
      "needs_background": "light"
     },
     "output_type": "display_data"
    }
   ],
   "source": [
    "width = 12\n",
    "height = 10\n",
    "plt.figure(figsize=(width, height))\n",
    "sns.regplot(x=\"city-mpg\", y=\"price\", data=df)\n",
    "plt.ylim(0,)"
   ]
  },
  {
   "cell_type": "markdown",
   "id": "exempt-corps",
   "metadata": {},
   "source": [
    "<p> Podemos ver neste gráfico que o preço está negativamente correlacionado com a variavel city-mpg, uma vez que a inclinação da regressão é negativa.\n",
    "Uma coisa a ter em mente ao examinar um gráfico de regressão é prestar atenção em como os pontos de dados estão espalhados ao redor da linha de regressão. Isso lhe dará uma boa indicação da variação dos dados e se um modelo linear seria o melhor ajuste ou não. Se os dados estiverem muito distantes da linha, este modelo linear pode não ser o melhor modelo para esses dados. Vamos comparar este gráfico com o gráfico de regressão de \"peak-rpm\". </p>"
   ]
  },
  {
   "cell_type": "code",
   "execution_count": 19,
   "id": "compact-territory",
   "metadata": {},
   "outputs": [
    {
     "data": {
      "text/plain": [
       "(0.0, 47414.1)"
      ]
     },
     "execution_count": 19,
     "metadata": {},
     "output_type": "execute_result"
    },
    {
     "data": {
      "image/png": "[encoded data removed]",
      "text/plain": [
       "<Figure size 864x720 with 1 Axes>"
      ]
     },
     "metadata": {
      "needs_background": "light"
     },
     "output_type": "display_data"
    }
   ],
   "source": [
    "plt.figure(figsize=(width, height))\n",
    "sns.regplot(x=\"peak-rpm\", y=\"price\", data=df)\n",
    "plt.ylim(0,)"
   ]
  },
  {
   "cell_type": "markdown",
   "id": "improved-basic",
   "metadata": {},
   "source": [
    "<p> Comparando o gráfico de regressão de \"peak-rpm\" e \"city-mpg\", vemos que os pontos de \"city-mpg\" estão muito mais próximos da linha gerada e na diminuição média. Os pontos para \"peak-rpm\" estão mais espalhados ao redor da linha prevista e é muito mais difícil determinar se os pontos estão diminuindo ou aumentando à medida que a \"city-mpg\" aumenta. </p>"
   ]
  },
  {
   "cell_type": "markdown",
   "id": "amazing-tournament",
   "metadata": {},
   "source": [
    "<h3> Gráfico residual </h3>\n",
    "\n",
    "<p> Uma boa maneira de visualizar a variação dos dados é usar um gráfico residual. </p>\n",
    "\n",
    "<p> O que é um <b> residual </b>? </p>\n",
    "\n",
    "<p> A diferença entre o valor observado (y) e o valor previsto (Yhat) é chamada de residual (e). Quando olhamos para um gráfico de regressão, o residual é a distância do ponto de dados até a linha de regressão ajustada. </p>\n",
    "\n",
    "<p> Então, o que é um <b> gráfico residual </b>? </p>\n",
    "\n",
    "<p> Um gráfico residual é um gráfico que mostra os resíduos no eixo vertical y e a variável independente no eixo horizontal x. </p>\n",
    "\n",
    "<p> Em que prestamos atenção quando olhamos para um lote residual? </p>\n",
    "\n",
    "<p> Nós olhamos a propagação dos resíduos: </p>\n",
    "\n",
    "<p> - Se os pontos em um gráfico residual estiverem <b> espalhados aleatoriamente em torno do eixo x </b>, então um <b> modelo linear é apropriado </b> para os dados. Por que é que? Resíduos espalhados aleatoriamente significam que a variância é constante e, portanto, o modelo linear é um bom ajuste para esses dados. </p>"
   ]
  },
  {
   "cell_type": "code",
   "execution_count": 20,
   "id": "painted-backing",
   "metadata": {},
   "outputs": [
    {
     "name": "stderr",
     "output_type": "stream",
     "text": [
      "/home/anderson/.local/lib/python3.6/site-packages/seaborn/_decorators.py:43: FutureWarning: Pass the following variables as keyword args: x, y. From version 0.12, the only valid positional argument will be `data`, and passing other arguments without an explicit keyword will result in an error or misinterpretation.\n",
      "  FutureWarning\n"
     ]
    },
    {
     "data": {
      "image/png": "[encoded data removed]",
      "text/plain": [
       "<Figure size 864x720 with 1 Axes>"
      ]
     },
     "metadata": {
      "needs_background": "light"
     },
     "output_type": "display_data"
    }
   ],
   "source": [
    "width = 12\n",
    "height = 10\n",
    "plt.figure(figsize=(width, height))\n",
    "sns.residplot(df['city-mpg'], df['price'])\n",
    "plt.show()"
   ]
  },
  {
   "cell_type": "markdown",
   "id": "naval-attack",
   "metadata": {},
   "source": [
    "<i> O que este gráfico está nos dizendo? </i>\n",
    "\n",
    "<p> Podemos ver neste gráfico residual que os resíduos não estão espalhados aleatoriamente em torno do eixo x, o que nos leva a acreditar que talvez um modelo não linear seja mais apropriado para esses dados. </p>"
   ]
  },
  {
   "cell_type": "markdown",
   "id": "affected-museum",
   "metadata": {},
   "source": [
    "<h3>Multiple Linear Regression</h3>\n"
   ]
  },
  {
   "cell_type": "markdown",
   "id": "surrounded-pontiac",
   "metadata": {},
   "source": [
    "<p> Como podemos visualizar um modelo de regressão linear múltipla? Isso fica um pouco mais complicado porque você não pode visualizá-lo com regressão ou gráfico residual. </p>\n",
    "\n",
    "<p> Uma maneira de ver o ajuste do modelo é olhando para o <b> gráfico de distribuição </b>: podemos olhar para a distribuição dos valores ajustados que resultam do modelo e compará-la com a distribuição de os valores reais. </p>"
   ]
  },
  {
   "cell_type": "code",
   "execution_count": 21,
   "id": "generic-coordination",
   "metadata": {},
   "outputs": [],
   "source": [
    "Y_hat = lm.predict(Z)"
   ]
  },
  {
   "cell_type": "code",
   "execution_count": 22,
   "id": "popular-chester",
   "metadata": {},
   "outputs": [
    {
     "name": "stderr",
     "output_type": "stream",
     "text": [
      "/home/anderson/.local/lib/python3.6/site-packages/seaborn/distributions.py:2557: FutureWarning: `distplot` is a deprecated function and will be removed in a future version. Please adapt your code to use either `displot` (a figure-level function with similar flexibility) or `kdeplot` (an axes-level function for kernel density plots).\n",
      "  warnings.warn(msg, FutureWarning)\n",
      "/home/anderson/.local/lib/python3.6/site-packages/seaborn/distributions.py:2557: FutureWarning: `distplot` is a deprecated function and will be removed in a future version. Please adapt your code to use either `displot` (a figure-level function with similar flexibility) or `kdeplot` (an axes-level function for kernel density plots).\n",
      "  warnings.warn(msg, FutureWarning)\n"
     ]
    },
    {
     "data": {
      "image/png": "[encoded data removed]",
      "text/plain": [
       "<Figure size 864x720 with 1 Axes>"
      ]
     },
     "metadata": {
      "needs_background": "light"
     },
     "output_type": "display_data"
    }
   ],
   "source": [
    "plt.figure(figsize=(width, height))\n",
    "\n",
    "\n",
    "ax1 = sns.distplot(df['price'], hist=False, color=\"r\", label=\"Actual Value\")\n",
    "sns.distplot(Y_hat, hist=False, color=\"b\", label=\"Fitted Values\" , ax=ax1)\n",
    "\n",
    "\n",
    "plt.title('Actual vs Fitted Values for Price')\n",
    "plt.xlabel('Price (in dollars)')\n",
    "plt.ylabel('Proportion of Cars')\n",
    "\n",
    "plt.show()\n",
    "plt.close()"
   ]
  },
  {
   "cell_type": "markdown",
   "id": "systematic-defeat",
   "metadata": {},
   "source": [
    "<p> Podemos ver que os valores ajustados estão razoavelmente próximos dos valores reais, uma vez que as duas distribuições se sobrepõem um pouco. No entanto, definitivamente há espaço para melhorias. </p>"
   ]
  },
  {
   "cell_type": "markdown",
   "id": "professional-fluid",
   "metadata": {},
   "source": [
    "<h2>Regressão polinomial e pipelines </h2>"
   ]
  },
  {
   "cell_type": "markdown",
   "id": "nasty-boring",
   "metadata": {},
   "source": [
    "<p> <b> Regressão polinomial </b> é um caso particular do modelo de regressão linear geral ou modelos de regressão linear múltipla. </p>\n",
    "<p> Obtemos relacionamentos não lineares elevando ao quadrado ou definindo termos de ordem superior das variáveis preditoras. </p>\n",
    "\n",
    "<p> Existem diferentes ordens de regressão polinomial: </p>"
   ]
  },
  {
   "cell_type": "markdown",
   "id": "later-addition",
   "metadata": {},
   "source": [
    "<center><b>Quadratic - 2nd order</b></center>\n",
    "$$\n",
    "Yhat = a + b_1 X +b_2 X^2 \n",
    "$$\n",
    "\n",
    "<center><b>Cubic - 3rd order</b></center>\n",
    "$$\n",
    "Yhat = a + b_1 X +b_2 X^2 +b_3 X^3\\\\\\\\\n",
    "$$\n",
    "\n",
    "<center><b>Higher order</b>:</center>\n",
    "$$\n",
    "Y = a + b_1 X +b_2 X^2 +b_3 X^3 ....\\\\\\\\\n",
    "$$\n"
   ]
  },
  {
   "cell_type": "markdown",
   "id": "engaging-fairy",
   "metadata": {},
   "source": [
    "<p> Vimos anteriormente que um modelo linear não fornece o melhor ajuste ao usar city-mpg como variável preditora. Vamos ver se podemos tentar ajustar um modelo polinomial aos dados. </p>"
   ]
  },
  {
   "cell_type": "code",
   "execution_count": 26,
   "id": "organic-aside",
   "metadata": {},
   "outputs": [],
   "source": [
    "#  plotando a função\n",
    "\n",
    "def PlotPolly(model, independent_variable, dependent_variabble, Name):\n",
    "    x_new = np.linspace(15, 55, 100)\n",
    "    y_new = model(x_new)\n",
    "\n",
    "    plt.plot(independent_variable, dependent_variabble, '.', x_new, y_new, '-')\n",
    "    plt.title('Polynomial Fit - Price ~ Length')\n",
    "    ax = plt.gca()\n",
    "    ax.set_facecolor((0.898, 0.898, 0.898))\n",
    "    fig = plt.gcf()\n",
    "    plt.xlabel(Name)\n",
    "    plt.ylabel('Preço dos carros')\n",
    "\n",
    "    plt.show()\n",
    "    plt.close()"
   ]
  },
  {
   "cell_type": "code",
   "execution_count": 27,
   "id": "characteristic-induction",
   "metadata": {},
   "outputs": [
    {
     "name": "stdout",
     "output_type": "stream",
     "text": [
      "        3       2\n",
      "-2.668 x + 287 x - 1.02e+04 x + 1.275e+05\n"
     ]
    }
   ],
   "source": [
    "x = df['city-mpg']\n",
    "y = df['price']\n",
    "\n",
    "# utilizando uma regressão polinomial de 3a ordem (cubic) \n",
    "f = np.polyfit(x, y, 3)\n",
    "p = np.poly1d(f)\n",
    "print(p)"
   ]
  },
  {
   "cell_type": "code",
   "execution_count": 28,
   "id": "advisory-choice",
   "metadata": {},
   "outputs": [
    {
     "data": {
      "image/png": "[encoded data removed]",
      "text/plain": [
       "<Figure size 432x288 with 1 Axes>"
      ]
     },
     "metadata": {
      "needs_background": "light"
     },
     "output_type": "display_data"
    }
   ],
   "source": [
    "PlotPolly(p, x, y, 'city-mpg')"
   ]
  },
  {
   "cell_type": "code",
   "execution_count": 29,
   "id": "genuine-benefit",
   "metadata": {},
   "outputs": [
    {
     "data": {
      "text/plain": [
       "array([-2.66752889e+00,  2.87049531e+02, -1.01956042e+04,  1.27481687e+05])"
      ]
     },
     "execution_count": 29,
     "metadata": {},
     "output_type": "execute_result"
    }
   ],
   "source": [
    "np.polyfit(x, y, 3)"
   ]
  },
  {
   "cell_type": "markdown",
   "id": "useful-concert",
   "metadata": {},
   "source": [
    "<p> Já podemos ver na plotagem que este modelo polinomial tem um desempenho melhor do que o modelo linear. Isso ocorre porque a função polinomial gerada \"atinge\" mais os pontos de dados. </p>"
   ]
  },
  {
   "cell_type": "code",
   "execution_count": 30,
   "id": "cathedral-malta",
   "metadata": {},
   "outputs": [
    {
     "name": "stdout",
     "output_type": "stream",
     "text": [
      "           11             10             9           8         7\n",
      "1.533e-08 x  - 5.368e-06 x  + 0.0008428 x - 0.07828 x + 4.776 x\n",
      "          6        5            4             3             2\n",
      " - 200.8 x + 5932 x - 1.23e+05 x + 1.753e+06 x - 1.633e+07 x + 8.943e+07 x - 2.178e+08\n"
     ]
    }
   ],
   "source": [
    "# repetindo uma regressão polinomial agora na 11a ordem (cubic) \n",
    "f = np.polyfit(x, y, 11)\n",
    "p = np.poly1d(f)\n",
    "print(p)"
   ]
  },
  {
   "cell_type": "code",
   "execution_count": 31,
   "id": "caring-brave",
   "metadata": {},
   "outputs": [
    {
     "data": {
      "image/png": "[encoded data removed]",
      "text/plain": [
       "<Figure size 432x288 with 1 Axes>"
      ]
     },
     "metadata": {
      "needs_background": "light"
     },
     "output_type": "display_data"
    }
   ],
   "source": [
    "PlotPolly(p,x,y, 'Highway MPG')\n"
   ]
  },
  {
   "cell_type": "markdown",
   "id": "intimate-university",
   "metadata": {},
   "source": [
    "<p> A expressão analítica para função polinomial multivariada é complicada. Por exemplo, a expressão para um polinômio de segunda ordem (grau = 2) com duas variáveis é dada por: </p>\n",
    "\n",
    "$$\n",
    "Yhat = a + b_1 X_1 +b_2 X_2 +b_3 X_1 X_2+b_4 X_1^2+b_5 X_2^2\n",
    "$$"
   ]
  },
  {
   "cell_type": "markdown",
   "id": "retired-lancaster",
   "metadata": {},
   "source": [
    "Podemos realizar uma transformação polinomial em vários recursos. Primeiro, importamos o módulo:"
   ]
  },
  {
   "cell_type": "code",
   "execution_count": 32,
   "id": "vocational-string",
   "metadata": {},
   "outputs": [],
   "source": [
    "from sklearn.preprocessing import PolynomialFeatures"
   ]
  },
  {
   "cell_type": "code",
   "execution_count": 33,
   "id": "organic-organic",
   "metadata": {},
   "outputs": [
    {
     "data": {
      "text/plain": [
       "PolynomialFeatures(degree=2, include_bias=True, interaction_only=False)"
      ]
     },
     "execution_count": 33,
     "metadata": {},
     "output_type": "execute_result"
    }
   ],
   "source": [
    "#criando um objeto com grau 2\n",
    "\n",
    "pr=PolynomialFeatures(degree=2)\n",
    "pr"
   ]
  },
  {
   "cell_type": "markdown",
   "id": "radio-custom",
   "metadata": {},
   "source": [
    "<h2>Pipeline</h2>\n"
   ]
  },
  {
   "cell_type": "markdown",
   "id": "hybrid-wagon",
   "metadata": {},
   "source": [
    "<p> Os pipelines de dados simplificam as etapas de processamento dos dados. Usamos o módulo <b> Pipeline </b> para criar um pipeline. Também usamos <b> StandardScaler </b> como uma etapa em nosso pipeline. </p>"
   ]
  },
  {
   "cell_type": "code",
   "execution_count": 35,
   "id": "ranking-surface",
   "metadata": {},
   "outputs": [],
   "source": [
    "from sklearn.pipeline import Pipeline\n",
    "from sklearn.preprocessing import StandardScaler"
   ]
  },
  {
   "cell_type": "markdown",
   "id": "meaningful-screw",
   "metadata": {},
   "source": [
    "Criamos o pipeline, criando uma lista de tuplas incluindo o nome do modelo ou estimador e seu construtor correspondente."
   ]
  },
  {
   "cell_type": "code",
   "execution_count": 38,
   "id": "maritime-caution",
   "metadata": {},
   "outputs": [],
   "source": [
    "# inserimos a lista como um argumento para o construtor do pipeline\n",
    "Input=[('scale',StandardScaler()), ('polynomial', PolynomialFeatures(include_bias=False)), ('model',LinearRegression())]"
   ]
  },
  {
   "cell_type": "code",
   "execution_count": 37,
   "id": "knowing-locator",
   "metadata": {},
   "outputs": [
    {
     "data": {
      "text/plain": [
       "Pipeline(memory=None,\n",
       "     steps=[('scale', StandardScaler(copy=True, with_mean=True, with_std=True)), ('polynomial', PolynomialFeatures(degree=2, include_bias=False, interaction_only=False)), ('model', LinearRegression(copy_X=True, fit_intercept=True, n_jobs=None,\n",
       "         normalize=False))])"
      ]
     },
     "execution_count": 37,
     "metadata": {},
     "output_type": "execute_result"
    }
   ],
   "source": [
    "pipe=Pipeline(Input)\n",
    "pipe"
   ]
  },
  {
   "cell_type": "code",
   "execution_count": 39,
   "id": "liquid-special",
   "metadata": {},
   "outputs": [
    {
     "name": "stderr",
     "output_type": "stream",
     "text": [
      "/home/anderson/.local/lib/python3.6/site-packages/sklearn/preprocessing/data.py:625: DataConversionWarning: Data with input dtype int64 were all converted to float64 by StandardScaler.\n",
      "  return self.partial_fit(X, y)\n",
      "/home/anderson/.local/lib/python3.6/site-packages/sklearn/base.py:465: DataConversionWarning: Data with input dtype int64 were all converted to float64 by StandardScaler.\n",
      "  return self.fit(X, y, **fit_params).transform(X)\n"
     ]
    },
    {
     "data": {
      "text/plain": [
       "Pipeline(memory=None,\n",
       "     steps=[('scale', StandardScaler(copy=True, with_mean=True, with_std=True)), ('polynomial', PolynomialFeatures(degree=2, include_bias=False, interaction_only=False)), ('model', LinearRegression(copy_X=True, fit_intercept=True, n_jobs=None,\n",
       "         normalize=False))])"
      ]
     },
     "execution_count": 39,
     "metadata": {},
     "output_type": "execute_result"
    }
   ],
   "source": [
    "# Podemos normalizar os dados, realizar uma transformação e ajustar o modelo simultaneamente.\n",
    "pipe.fit(Z,y)"
   ]
  },
  {
   "cell_type": "code",
   "execution_count": 40,
   "id": "several-reporter",
   "metadata": {},
   "outputs": [
    {
     "name": "stderr",
     "output_type": "stream",
     "text": [
      "/home/anderson/.local/lib/python3.6/site-packages/sklearn/pipeline.py:331: DataConversionWarning: Data with input dtype int64 were all converted to float64 by StandardScaler.\n",
      "  Xt = transform.transform(Xt)\n"
     ]
    },
    {
     "data": {
      "text/plain": [
       "array([13714.92366272, 13714.92366272, 19016.61357517, 10349.32331209])"
      ]
     },
     "execution_count": 40,
     "metadata": {},
     "output_type": "execute_result"
    }
   ],
   "source": [
    "# Da mesma forma, podemos normalizar os dados, realizar uma transformação e produzir uma previsão simultaneamente\n",
    "ypipe=pipe.predict(Z)\n",
    "ypipe[0:4]"
   ]
  },
  {
   "cell_type": "markdown",
   "id": "cosmetic-audio",
   "metadata": {},
   "source": [
    "<h2>Medidas para avaliação</h2>\n",
    "\n",
    "<p> Ao avaliar nossos modelos, não queremos apenas visualizar os resultados, mas também uma medida quantitativa para determinar a precisão do modelo. </p>\n",
    "\n",
    "<p> Duas medidas muito importantes que costumam ser usadas em estatísticas para determinar a precisão de um modelo são: </p>\n",
    "<ul>\n",
    "     <li> <b> R ^ 2 / R-squared (R ao quadrado)</b> </li>\n",
    "     <li> <b> Mean Squared Error (Erro quadrático médio) (MSE) </b> </li>\n",
    "</ul>\n",
    "    \n",
    "<b> R-squared </b>\n",
    "\n",
    "<p> R-squared (R ao quadrado), também conhecido como coeficiente de determinação, é uma medida para indicar a proximidade dos dados com a linha de regressão ajustada. </p>\n",
    "    \n",
    "<p> O valor do R-squared é a porcentagem de variação da variável de resposta (y) que é explicada por um modelo linear. </p>\n",
    "\n",
    "<b> Erro quadrático médio (MSE) </b>\n",
    "\n",
    "<p> O erro quadrático médio mede a média dos quadrados dos erros, ou seja, a diferença entre o valor real (y) e o valor estimado (ŷ). </p>"
   ]
  },
  {
   "cell_type": "markdown",
   "id": "incredible-conspiracy",
   "metadata": {},
   "source": [
    "<h3>Model 1: Simple Linear Regression</h3>"
   ]
  },
  {
   "cell_type": "code",
   "execution_count": 42,
   "id": "acceptable-vertical",
   "metadata": {},
   "outputs": [
    {
     "name": "stdout",
     "output_type": "stream",
     "text": [
      "The R-square is:  0.4713797473570377\n"
     ]
    }
   ],
   "source": [
    "# Vamos calcular o R^2\n",
    "lm.fit(X, Y)\n",
    "#  R^2\n",
    "print('The R-square is: ', lm.score(X, Y))\n"
   ]
  },
  {
   "cell_type": "markdown",
   "id": "animal-rouge",
   "metadata": {},
   "source": [
    "Podemos dizer que ~ 47,13% da variação do preço é explicada por este modelo linear simples."
   ]
  },
  {
   "cell_type": "code",
   "execution_count": 43,
   "id": "tropical-villa",
   "metadata": {},
   "outputs": [
    {
     "name": "stdout",
     "output_type": "stream",
     "text": [
      "A saída dos primeiros quatro valores previstos é:  [16757.08312743 16757.08312743 18455.98957651 14208.72345381]\n"
     ]
    }
   ],
   "source": [
    "# Vamos calcular o MSE\n",
    "# Podemos prever a saída, ou seja, \"yhat\" usando o método de previsão, onde X é a variável de entrada:\n",
    "\n",
    "Yhat=lm.predict(X)\n",
    "print('A saída dos primeiros quatro valores previstos é: ', Yhat[0:4])"
   ]
  },
  {
   "cell_type": "markdown",
   "id": "fossil-analysis",
   "metadata": {},
   "source": [
    "vamos importar a função <b> mean_squared_error </b> do módulo <b> metrics </b>"
   ]
  },
  {
   "cell_type": "code",
   "execution_count": 44,
   "id": "published-memory",
   "metadata": {},
   "outputs": [],
   "source": [
    "from sklearn.metrics import mean_squared_error"
   ]
  },
  {
   "cell_type": "code",
   "execution_count": 45,
   "id": "local-sodium",
   "metadata": {},
   "outputs": [
    {
     "name": "stdout",
     "output_type": "stream",
     "text": [
      "O erro quadrático médio do preço e valor previsto é:  33219371.63106507\n"
     ]
    }
   ],
   "source": [
    "# comparamos os resultados previstos com os resultados reais\n",
    "mse = mean_squared_error(df['price'], Yhat)\n",
    "print('O erro quadrático médio do preço e valor previsto é: ', mse)"
   ]
  },
  {
   "cell_type": "markdown",
   "id": "empty-certificate",
   "metadata": {},
   "source": [
    "<h3>Model 2: Multiple Linear Regression</h3>\n"
   ]
  },
  {
   "cell_type": "code",
   "execution_count": 46,
   "id": "supported-fleet",
   "metadata": {},
   "outputs": [
    {
     "name": "stdout",
     "output_type": "stream",
     "text": [
      "R-square:  0.8092057759980572\n"
     ]
    }
   ],
   "source": [
    "# fit the model \n",
    "lm.fit(Z, df['price'])\n",
    "# R^2\n",
    "print('R-square: ', lm.score(Z, df['price']))"
   ]
  },
  {
   "cell_type": "markdown",
   "id": "manufactured-helping",
   "metadata": {},
   "source": [
    "Podemos dizer que ~ 80,896% da variação de preço é explicada por esta regressão linear múltipla \"multi_fit\"."
   ]
  },
  {
   "cell_type": "code",
   "execution_count": 47,
   "id": "polish-sender",
   "metadata": {},
   "outputs": [
    {
     "name": "stdout",
     "output_type": "stream",
     "text": [
      "O erro quadrático médio de preço e valor previsto usando multifit é 11989824.832651718\n"
     ]
    }
   ],
   "source": [
    "# MSE\n",
    "\n",
    "Y_predict_multifit = lm.predict(Z)\n",
    "\n",
    "print('O erro quadrático médio de preço e valor previsto usando multifit é', \\\n",
    "      mean_squared_error(df['price'], Y_predict_multifit))"
   ]
  },
  {
   "cell_type": "markdown",
   "id": "seven-ending",
   "metadata": {},
   "source": [
    "<h3>Model 3: Polynomial Fit</h3>\n"
   ]
  },
  {
   "cell_type": "code",
   "execution_count": 49,
   "id": "scenic-bradley",
   "metadata": {},
   "outputs": [],
   "source": [
    "from sklearn.metrics import r2_score"
   ]
  },
  {
   "cell_type": "code",
   "execution_count": 50,
   "id": "pressed-shopping",
   "metadata": {},
   "outputs": [
    {
     "name": "stdout",
     "output_type": "stream",
     "text": [
      "R-square:  0.714971112999928\n"
     ]
    }
   ],
   "source": [
    "r_squared = r2_score(y, p(x))\n",
    "print('R-square: ', r_squared)"
   ]
  },
  {
   "cell_type": "code",
   "execution_count": 51,
   "id": "wooden-repair",
   "metadata": {},
   "outputs": [
    {
     "data": {
      "text/plain": [
       "17911687.029591337"
      ]
     },
     "execution_count": 51,
     "metadata": {},
     "output_type": "execute_result"
    }
   ],
   "source": [
    "mean_squared_error(df['price'], p(x))"
   ]
  },
  {
   "cell_type": "markdown",
   "id": "unsigned-utilization",
   "metadata": {},
   "source": [
    "<h2> Previsão e tomada de decisão </h2>\n",
    "<h3> Previsão </h3>\n",
    "\n",
    "<p> Treinamos o modelo usando o método <b> fit </b>. Agora vamos usar o método <b> predict </b> para produzir uma previsão. Vamos importar <b> pyplot </b> para plotagem; também usaremos algumas funções do numpy. </p>"
   ]
  },
  {
   "cell_type": "code",
   "execution_count": 52,
   "id": "molecular-preserve",
   "metadata": {},
   "outputs": [],
   "source": [
    "import matplotlib.pyplot as plt\n",
    "import numpy as np\n",
    "\n",
    "%matplotlib inline "
   ]
  },
  {
   "cell_type": "code",
   "execution_count": 53,
   "id": "interracial-contamination",
   "metadata": {},
   "outputs": [],
   "source": [
    "# novo input\n",
    "new_input=np.arange(1, 100, 1).reshape(-1, 1)"
   ]
  },
  {
   "cell_type": "code",
   "execution_count": 54,
   "id": "varying-arlington",
   "metadata": {},
   "outputs": [
    {
     "data": {
      "text/plain": [
       "LinearRegression(copy_X=True, fit_intercept=True, n_jobs=None,\n",
       "         normalize=False)"
      ]
     },
     "execution_count": 54,
     "metadata": {},
     "output_type": "execute_result"
    }
   ],
   "source": [
    "# fit \n",
    "lm.fit(X, Y)\n",
    "lm"
   ]
  },
  {
   "cell_type": "code",
   "execution_count": 55,
   "id": "eligible-currency",
   "metadata": {},
   "outputs": [
    {
     "data": {
      "text/plain": [
       "array([33746.14761824, 32896.6943937 , 32047.24116916, 31197.78794462,\n",
       "       30348.33472008])"
      ]
     },
     "execution_count": 55,
     "metadata": {},
     "output_type": "execute_result"
    }
   ],
   "source": [
    "# criando uma previsão\n",
    "yhat=lm.predict(new_input)\n",
    "yhat[0:5]"
   ]
  },
  {
   "cell_type": "code",
   "execution_count": 56,
   "id": "cloudy-might",
   "metadata": {},
   "outputs": [
    {
     "data": {
      "image/png": "[encoded data removed]",
      "text/plain": [
       "<Figure size 432x288 with 1 Axes>"
      ]
     },
     "metadata": {
      "needs_background": "light"
     },
     "output_type": "display_data"
    }
   ],
   "source": [
    "# plotando o resultado\n",
    "plt.plot(new_input, yhat)\n",
    "plt.show()"
   ]
  },
  {
   "cell_type": "markdown",
   "id": "formed-grammar",
   "metadata": {},
   "source": [
    "<h3> Tomada de decisão: Determinando um bom ajuste do modelo </h3>\n",
    "\n",
    "\n",
    "<p> Agora que visualizamos os diferentes modelos e geramos os valores R-quadrado e MSE para os ajustes, como determinamos um bom ajuste do modelo?\n",
    "<ul>\n",
    "    <li> <i> O que é um bom valor de R ao quadrado? </i> </li>\n",
    "</ul>\n",
    "</p>\n",
    "\n",
    "<p> Ao comparar modelos, <b> o modelo com o valor de R quadrado mais alto é um ajuste melhor </b> para os dados.\n",
    "<ul>\n",
    "    <li> <i> O que é um bom MSE? </i> </li>\n",
    "</ul>\n",
    "</p>\n",
    "\n",
    "<p> Ao comparar modelos, <b> o modelo com o menor valor de MSE é um ajuste melhor </b> para os dados. </p>\n",
    "\n",
    "<h4> Vamos dar uma olhada nos valores dos diferentes modelos. </h4>\n",
    "<p> Regressão linear simples: usando city-mpg como variável preditora de preço.\n",
    "<ul>\n",
    "    <li> R ao quadrado: 0,49659118843391759 </li>\n",
    "    <li> MSE: 3,16 x10 ^ 7 </li>\n",
    "</ul>\n",
    "</p>\n",
    "    \n",
    "<p> Regressão linear múltipla: usando horsepower, engine-size, tamanho do motor e city-mpg como variáveis ​​preditoras de preço.\n",
    "<ul>\n",
    "    <li> R ao quadrado: 0,80896354913783497 </li>\n",
    "    <li> MSE: 1,2 x10 ^ 7 </li>\n",
    "</ul>\n",
    "</p>\n",
    "    \n",
    "<p> Ajuste polinomial: usando city-mpg como uma variável preditora de preço.\n",
    "<ul>\n",
    "    <li> R ao quadrado: 0,6741946663906514 </li>\n",
    "    <li> MSE: 2,05 x 10 ^ 7 </li>\n",
    "</ul>\n",
    "</p>"
   ]
  },
  {
   "cell_type": "markdown",
   "id": "domestic-costs",
   "metadata": {},
   "source": [
    "<h3> Modelo de regressão linear simples (SLR) vs modelo de regressão linear múltipla (MLR) </h3>\n",
    "\n",
    "<p> Normalmente, quanto mais variáveis ​​você tiver, melhor será a previsão do seu modelo, mas nem sempre isso é verdade. Às vezes, você pode não ter dados suficientes, pode ter problemas numéricos ou muitas das variáveis ​​podem não ser úteis e ou mesmo atuar como ruído. Como resultado, você deve sempre verificar o MSE e R ^ 2. </p>\n",
    "\n",
    "<p> Assim, para poder comparar os resultados dos modelos MLR vs SLR, olhamos para uma combinação de R-quadrado e MSE para tirar a melhor conclusão sobre o ajuste do modelo.\n",
    "<ul>\n",
    "    <li> <b> MSE </b> O MSE de SLR é 3,16x10 ^ 7, enquanto MLR tem um MSE de 1,2 x10 ^ 7. O MSE do MLR é muito menor. </li>\n",
    "    <li> <b> R ao quadrado </b>: neste caso, também podemos ver que há uma grande diferença entre o R ao quadrado do SLR e o R ao quadrado do MLR. O R-quadrado do SLR (~ 0,497) é muito pequeno em comparação com o R-quadrado do MLR (~ 0,809). </li>\n",
    "</ul>\n",
    "</p>\n",
    "\n",
    "Este R-quadrado em combinação com o MSE mostra que o MLR parece ser o modelo de melhor ajuste neste caso, em comparação com o SLR."
   ]
  },
  {
   "cell_type": "markdown",
   "id": "celtic-basketball",
   "metadata": {},
   "source": [
    "<h3> Modelo Linear Simples (SLR) vs Ajuste Polinomial </h3>\n",
    "\n",
    "<ul>\n",
    "     <li> <b> MSE </b>: podemos ver que o ajuste polinomial derrubou o MSE, já que este MSE é menor que o do SLR</li>\n",
    "     <li> <b> R ao quadrado </b>: o R ao quadrado do Polyfit é maior do que o R ao quadrado do SLR, então o ajuste polinomial também aumentou o R ao quadrado.</li >\n",
    "</ul>\n",
    "<p> Como o ajuste polinomial resultou em um MSE inferior e um R-quadrado mais alto, podemos concluir que este foi um modelo de ajuste melhor do que a regressão linear simples para prever o preço com city-mpg como variável preditora. </p>"
   ]
  },
  {
   "cell_type": "markdown",
   "id": "regulated-decimal",
   "metadata": {},
   "source": [
    "<h3> Regressão Linear Múltipla (MLR) vs Ajuste Polinomial </h3>\n",
    "<ul>\n",
    "     <li> <b> MSE </b>: O MSE para o MLR é menor do que o MSE para o ajuste polinomial. </li>\n",
    "     <li> <b> R ao quadrado </b>: o R ao quadrado do MLR também é muito maior do que para o ajuste polinomial. </li>\n",
    "</ul>"
   ]
  },
  {
   "cell_type": "markdown",
   "id": "general-springfield",
   "metadata": {},
   "source": [
    "<h2>Conclusão:</h2>\n",
    "\n",
    "<p> Comparando esses três modelos, concluímos que <b> o modelo MLR é o melhor modelo </b> para ser capaz de prever o preço de nosso conjunto de dados. Esse resultado faz sentido, pois temos 27 variáveis no total e sabemos que mais de uma dessas variáveis são preditores potenciais do preço final do carro. </p>\n"
   ]
  },
  {
   "cell_type": "markdown",
   "id": "cognitive-management",
   "metadata": {},
   "source": [
    "# É isso!\n",
    "\n",
    "### Este é apenas um exemplo de aplicação de um modelo, com pandas.\n",
    "Este notebook faz parte de uma série de notebooks com conteúdos extraídos de cursos dos quais participei como aluno, ouvinte, professor, monitor... Reunidos para consulta futura e compartilhamento de idéias, soluções e conhecimento!\n",
    "\n",
    "### Muito obrigado pela sua leitura!\n",
    "\n",
    "\n",
    "<h4>Anderson Cordeiro</h4>\n",
    "\n",
    "Você pode encontrar mais conteúdo no meu Medium<br> ou então entrar em contato comigo :D\n",
    "\n",
    "<a href=\"https://www.linkedin.com/in/andercordeiro/\" target=\"_blank\">[LinkedIn]</a>\n",
    "<a href=\"https://medium.com/@andcordeiro\" target=\"_blank\">[Medium]</a>\n"
   ]
  },
  {
   "cell_type": "code",
   "execution_count": null,
   "id": "opening-therapy",
   "metadata": {},
   "outputs": [],
   "source": []
  }
 ],
 "metadata": {
  "kernelspec": {
   "display_name": "Python 3",
   "language": "python",
   "name": "python3"
  },
  "language_info": {
   "codemirror_mode": {
    "name": "ipython",
    "version": 3
   },
   "file_extension": ".py",
   "mimetype": "text/x-python",
   "name": "python",
   "nbconvert_exporter": "python",
   "pygments_lexer": "ipython3",
   "version": "3.6.9"
  }
 },
 "nbformat": 4,
 "nbformat_minor": 5
}
